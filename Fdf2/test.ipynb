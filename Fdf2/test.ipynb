{
 "cells": [
  {
   "cell_type": "code",
   "execution_count": 1,
   "metadata": {},
   "outputs": [
    {
     "name": "stdout",
     "output_type": "stream",
     "text": [
      "Punto proyectado en la pantalla: (-0.3333333333333333, -0.6666666666666666)\n"
     ]
    }
   ],
   "source": [
    "import numpy as np\n",
    "\n",
    "def proyectar_punto(x, y, z, w, view_matrix, projection_matrix):\n",
    "    # Crear el punto 4D\n",
    "    punto_3d = np.array([x, y, z, w])\n",
    "    \n",
    "    # Multiplicar por la matriz de vista\n",
    "    punto_vista = np.dot(view_matrix, punto_3d)\n",
    "    \n",
    "    # Multiplicar por la matriz de proyección\n",
    "    punto_proyectado = np.dot(projection_matrix, punto_vista)\n",
    "    \n",
    "    # Normalizar para obtener las coordenadas 2D\n",
    "    if punto_proyectado[3] != 0:\n",
    "        x_pantalla = punto_proyectado[0] / punto_proyectado[3]\n",
    "        y_pantalla = punto_proyectado[1] / punto_proyectado[3]\n",
    "    else:\n",
    "        x_pantalla = y_pantalla = 0\n",
    "    \n",
    "    return x_pantalla, y_pantalla\n",
    "\n",
    "# Ejemplo de matrices de vista y proyección\n",
    "view_matrix = np.array([\n",
    "    [1, 0, 0, 0],\n",
    "    [0, 1, 0, 0],\n",
    "    [0, 0, 1, 0],\n",
    "    [0, 0, -5, 1]  # Simula una cámara desplazada a -5 en el eje Z\n",
    "])\n",
    "\n",
    "projection_matrix = np.array([\n",
    "    [1, 0, 0, 0],\n",
    "    [0, 1, 0, 0],\n",
    "    [0, 0, -1, -2],  # Proyección simple\n",
    "    [0, 0, -1, 0]\n",
    "])\n",
    "\n",
    "# Proyectar un punto (1, 2, 3, 1)\n",
    "x_pantalla, y_pantalla = proyectar_punto(1, 2, 3, 1, view_matrix, projection_matrix)\n",
    "print(f'Punto proyectado en la pantalla: ({x_pantalla}, {y_pantalla})')\n"
   ]
  }
 ],
 "metadata": {
  "kernelspec": {
   "display_name": "Python 3",
   "language": "python",
   "name": "python3"
  },
  "language_info": {
   "codemirror_mode": {
    "name": "ipython",
    "version": 3
   },
   "file_extension": ".py",
   "mimetype": "text/x-python",
   "name": "python",
   "nbconvert_exporter": "python",
   "pygments_lexer": "ipython3",
   "version": "3.10.12"
  }
 },
 "nbformat": 4,
 "nbformat_minor": 2
}
