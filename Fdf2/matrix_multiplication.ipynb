{
 "cells": [
  {
   "cell_type": "code",
   "execution_count": 10,
   "metadata": {},
   "outputs": [
    {
     "name": "stdout",
     "output_type": "stream",
     "text": [
      "[[ 0.01]\n",
      " [ 0.06]\n",
      " [ 0.08]\n",
      " [-0.13]\n",
      " [-0.05]]\n",
      "0.05\n",
      "0.08\n"
     ]
    }
   ],
   "source": [
    "import numpy as np\n",
    "\n",
    "R = 1000\n",
    "V = 250\n",
    "\n",
    "A = [\n",
    "    [1, -1, -1, -1, 0],\n",
    "    [0, 0, 1, 1, -1],\n",
    "    [-R, 0, 0, -2*R, 0],\n",
    "    [-R, -4*R, 0, 0, 0],\n",
    "    [0, 0, 3*R, -2*R, 0]\n",
    "]\n",
    "\n",
    "b = [[0, 0, V, -V , 2*V]]\n",
    "\n",
    "A = np.array(A)\n",
    "b = np.array(b)\n",
    "b = b.T\n",
    "x = np.linalg.inv(A) @ b \n",
    "print(x)\n",
    "print(1.0/20.0)\n",
    "print(2.0/25.0)"
   ]
  }
 ],
 "metadata": {
  "kernelspec": {
   "display_name": "Python 3",
   "language": "python",
   "name": "python3"
  },
  "language_info": {
   "codemirror_mode": {
    "name": "ipython",
    "version": 3
   },
   "file_extension": ".py",
   "mimetype": "text/x-python",
   "name": "python",
   "nbconvert_exporter": "python",
   "pygments_lexer": "ipython3",
   "version": "3.10.12"
  }
 },
 "nbformat": 4,
 "nbformat_minor": 2
}
