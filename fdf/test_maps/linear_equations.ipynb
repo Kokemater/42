{
 "cells": [
  {
   "cell_type": "code",
   "execution_count": 5,
   "metadata": {},
   "outputs": [
    {
     "name": "stdout",
     "output_type": "stream",
     "text": [
      "15000.000000000004\n"
     ]
    },
    {
     "data": {
      "text/plain": [
       "array([[1.75],\n",
       "       [0.75],\n",
       "       [0.5 ],\n",
       "       [0.75]])"
      ]
     },
     "execution_count": 5,
     "metadata": {},
     "output_type": "execute_result"
    }
   ],
   "source": [
    "import numpy as np\n",
    "\n",
    "\n",
    "\n",
    "A = np.array([[-10,5,0,5],\n",
    "\t\t\t [5,-15,5,0],\n",
    "\t\t\t [0, 5, -15,5],\n",
    "\t\t\t [5, 0, 5, -15]])\n",
    "\n",
    "b = np. array([[-10, 0, 0,0]])\n",
    "b = b.T\n",
    "\n",
    "A_inv = np.linalg.inv(A)\n",
    "\n",
    "x = A_inv @ b\n",
    "\n",
    "print(np.linalg.det(A))\n",
    "x"
   ]
  }
 ],
 "metadata": {
  "kernelspec": {
   "display_name": "Python 3",
   "language": "python",
   "name": "python3"
  },
  "language_info": {
   "codemirror_mode": {
    "name": "ipython",
    "version": 3
   },
   "file_extension": ".py",
   "mimetype": "text/x-python",
   "name": "python",
   "nbconvert_exporter": "python",
   "pygments_lexer": "ipython3",
   "version": "3.10.12"
  }
 },
 "nbformat": 4,
 "nbformat_minor": 2
}
