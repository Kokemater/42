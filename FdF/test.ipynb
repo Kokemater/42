{
 "cells": [
  {
   "cell_type": "code",
   "execution_count": 8,
   "metadata": {},
   "outputs": [
    {
     "name": "stdout",
     "output_type": "stream",
     "text": [
      "Matriz de vista:\n",
      "[[ 9.48683298e-01 -1.69030851e-01  2.67261242e-01 -1.11022302e-16]\n",
      " [ 0.00000000e+00  8.45154255e-01  5.34522484e-01 -2.22044605e-16]\n",
      " [-3.16227766e-01 -5.07092553e-01  8.01783726e-01 -3.74165739e+00]\n",
      " [ 0.00000000e+00  0.00000000e+00  0.00000000e+00  1.00000000e+00]]\n"
     ]
    }
   ],
   "source": [
    "import numpy as np\n",
    "\n",
    "# Función para restar dos vectores\n",
    "def subtract_vectors(v1, v2):\n",
    "    return np.array([v1[i] - v2[i] for i in range(3)])\n",
    "\n",
    "# Función para normalizar un vector\n",
    "def normalize(v):\n",
    "    norm = np.linalg.norm(v)\n",
    "    if norm == 0: \n",
    "        return v\n",
    "    return v / norm\n",
    "\n",
    "# Función para calcular el producto cruzado entre dos vectores\n",
    "def cross_product(v1, v2):\n",
    "    return np.cross(v1, v2)\n",
    "\n",
    "# Función para crear la matriz de vista\n",
    "def create_view_matrix(Camera, Target, Up):\n",
    "    # Restar los vectores para obtener z (dirección de la vista)\n",
    "    z = subtract_vectors(Camera, Target)\n",
    "    z = normalize(z)\n",
    "    \n",
    "    # Calcular el eje X (derecha)\n",
    "    x = cross_product(Up, z)\n",
    "    x = normalize(x)\n",
    "    \n",
    "    # Calcular el eje Y (arriba corregido)\n",
    "    y = cross_product(z, x)\n",
    "    \n",
    "    # Crear la matriz de vista\n",
    "    view_matrix = np.zeros((4, 4))\n",
    "    \n",
    "    # Asignar los valores correspondientes\n",
    "    view_matrix[0, 0] = x[0]\n",
    "    view_matrix[0, 1] = y[0]\n",
    "    view_matrix[0, 2] = z[0]\n",
    "    view_matrix[1, 0] = x[1]\n",
    "    view_matrix[1, 1] = y[1]\n",
    "    view_matrix[1, 2] = z[1]\n",
    "    view_matrix[2, 0] = x[2]\n",
    "    view_matrix[2, 1] = y[2]\n",
    "    view_matrix[2, 2] = z[2]\n",
    "    \n",
    "    # Traslación en la matriz de vista\n",
    "    view_matrix[0, 3] = -(np.dot(x, Camera))\n",
    "    view_matrix[1, 3] = -(np.dot(y, Camera))\n",
    "    view_matrix[2, 3] = -(np.dot(z, Camera))\n",
    "    \n",
    "    # El valor en la última columna\n",
    "    view_matrix[3, 3] = 1\n",
    "    \n",
    "    return view_matrix\n",
    "\n",
    "# Definir los vectores Camera, Target y Up\n",
    "Camera = np.array([1.0, 2.0, 3.0])  # Cámara\n",
    "Target = np.array([0.0, 0.0, 0.0])  # Objetivo\n",
    "Up = np.array([0.0, 1.0, 0.0])     # Vector \"arriba\"\n",
    "\n",
    "# Generar la matriz de vista\n",
    "view_matrix = create_view_matrix(Camera, Target, Up)\n",
    "\n",
    "# Imprimir la matriz de vista\n",
    "print(\"Matriz de vista:\")\n",
    "print(view_matrix)\n"
   ]
  }
 ],
 "metadata": {
  "kernelspec": {
   "display_name": "Python 3",
   "language": "python",
   "name": "python3"
  },
  "language_info": {
   "codemirror_mode": {
    "name": "ipython",
    "version": 3
   },
   "file_extension": ".py",
   "mimetype": "text/x-python",
   "name": "python",
   "nbconvert_exporter": "python",
   "pygments_lexer": "ipython3",
   "version": "3.10.12"
  }
 },
 "nbformat": 4,
 "nbformat_minor": 2
}
